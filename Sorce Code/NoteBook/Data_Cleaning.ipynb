{
 "cells": [
  {
   "cell_type": "code",
   "execution_count": 1,
   "id": "66e30f3d-41c4-4dd9-b80b-f4546e41c15d",
   "metadata": {},
   "outputs": [],
   "source": [
    "import pandas as pd"
   ]
  },
  {
   "cell_type": "code",
   "execution_count": 41,
   "id": "27c53331-11c1-46ab-8c8d-d5e8123b0ca9",
   "metadata": {},
   "outputs": [],
   "source": [
    "data = pd.read_csv(r\"D:\\New folder\\category.csv\")\n",
    "df_category=pd.DataFrame(data)"
   ]
  },
  {
   "cell_type": "code",
   "execution_count": 51,
   "id": "748324e5-2406-4208-a5c2-4609a343964a",
   "metadata": {},
   "outputs": [
    {
     "data": {
      "text/html": [
       "<div>\n",
       "<style scoped>\n",
       "    .dataframe tbody tr th:only-of-type {\n",
       "        vertical-align: middle;\n",
       "    }\n",
       "\n",
       "    .dataframe tbody tr th {\n",
       "        vertical-align: top;\n",
       "    }\n",
       "\n",
       "    .dataframe thead th {\n",
       "        text-align: right;\n",
       "    }\n",
       "</style>\n",
       "<table border=\"1\" class=\"dataframe\">\n",
       "  <thead>\n",
       "    <tr style=\"text-align: right;\">\n",
       "      <th></th>\n",
       "      <th>category_id</th>\n",
       "      <th>category_name</th>\n",
       "    </tr>\n",
       "  </thead>\n",
       "  <tbody>\n",
       "    <tr>\n",
       "      <th>0</th>\n",
       "      <td>CAT-1</td>\n",
       "      <td>Laptop</td>\n",
       "    </tr>\n",
       "    <tr>\n",
       "      <th>1</th>\n",
       "      <td>CAT-2</td>\n",
       "      <td>Audio</td>\n",
       "    </tr>\n",
       "    <tr>\n",
       "      <th>2</th>\n",
       "      <td>CAT-3</td>\n",
       "      <td>Tablet</td>\n",
       "    </tr>\n",
       "    <tr>\n",
       "      <th>3</th>\n",
       "      <td>CAT-4</td>\n",
       "      <td>Smartphone</td>\n",
       "    </tr>\n",
       "    <tr>\n",
       "      <th>4</th>\n",
       "      <td>CAT-5</td>\n",
       "      <td>Wearable</td>\n",
       "    </tr>\n",
       "  </tbody>\n",
       "</table>\n",
       "</div>"
      ],
      "text/plain": [
       "  category_id category_name\n",
       "0       CAT-1        Laptop\n",
       "1       CAT-2         Audio\n",
       "2       CAT-3        Tablet\n",
       "3       CAT-4    Smartphone\n",
       "4       CAT-5      Wearable"
      ]
     },
     "execution_count": 51,
     "metadata": {},
     "output_type": "execute_result"
    }
   ],
   "source": [
    "df_category.head()"
   ]
  },
  {
   "cell_type": "code",
   "execution_count": 5,
   "id": "afd788d0-70b1-44b3-b4b1-db83140f7030",
   "metadata": {},
   "outputs": [
    {
     "data": {
      "text/plain": [
       "category_id      0\n",
       "category_name    0\n",
       "dtype: int64"
      ]
     },
     "execution_count": 5,
     "metadata": {},
     "output_type": "execute_result"
    }
   ],
   "source": [
    "df_category.isna().sum()"
   ]
  },
  {
   "cell_type": "code",
   "execution_count": 7,
   "id": "739ccf44-00cc-4ceb-9697-31613891b3ad",
   "metadata": {},
   "outputs": [
    {
     "data": {
      "text/plain": [
       "0"
      ]
     },
     "execution_count": 7,
     "metadata": {},
     "output_type": "execute_result"
    }
   ],
   "source": [
    "df_category.duplicated().sum()"
   ]
  },
  {
   "cell_type": "code",
   "execution_count": 63,
   "id": "d006aaf4-24ef-4a14-a0e0-08deaf1fbf7c",
   "metadata": {},
   "outputs": [],
   "source": [
    "data = pd.read_csv(r\"D:\\New folder\\products.csv\")\n",
    "df_products=pd.DataFrame(data)"
   ]
  },
  {
   "cell_type": "code",
   "execution_count": 55,
   "id": "e240e1b8-ccd7-46df-a6e9-6b5df5b9a5f1",
   "metadata": {},
   "outputs": [
    {
     "data": {
      "text/html": [
       "<div>\n",
       "<style scoped>\n",
       "    .dataframe tbody tr th:only-of-type {\n",
       "        vertical-align: middle;\n",
       "    }\n",
       "\n",
       "    .dataframe tbody tr th {\n",
       "        vertical-align: top;\n",
       "    }\n",
       "\n",
       "    .dataframe thead th {\n",
       "        text-align: right;\n",
       "    }\n",
       "</style>\n",
       "<table border=\"1\" class=\"dataframe\">\n",
       "  <thead>\n",
       "    <tr style=\"text-align: right;\">\n",
       "      <th></th>\n",
       "      <th>product_id</th>\n",
       "      <th>product_name</th>\n",
       "      <th>category_id</th>\n",
       "      <th>launch_date</th>\n",
       "      <th>price</th>\n",
       "    </tr>\n",
       "  </thead>\n",
       "  <tbody>\n",
       "    <tr>\n",
       "      <th>0</th>\n",
       "      <td>P-1</td>\n",
       "      <td>MacBook Pro (Touch Bar)</td>\n",
       "      <td>CAT-1</td>\n",
       "      <td>2016-10-01</td>\n",
       "      <td>1499</td>\n",
       "    </tr>\n",
       "    <tr>\n",
       "      <th>1</th>\n",
       "      <td>P-2</td>\n",
       "      <td>AirPods</td>\n",
       "      <td>CAT-2</td>\n",
       "      <td>2016-12-01</td>\n",
       "      <td>159</td>\n",
       "    </tr>\n",
       "    <tr>\n",
       "      <th>2</th>\n",
       "      <td>P-3</td>\n",
       "      <td>iPad Pro (10.5-inch)</td>\n",
       "      <td>CAT-3</td>\n",
       "      <td>2017-06-01</td>\n",
       "      <td>649</td>\n",
       "    </tr>\n",
       "    <tr>\n",
       "      <th>3</th>\n",
       "      <td>P-4</td>\n",
       "      <td>iPad Pro (12.9-inch, 2nd Gen)</td>\n",
       "      <td>CAT-3</td>\n",
       "      <td>2017-06-01</td>\n",
       "      <td>799</td>\n",
       "    </tr>\n",
       "    <tr>\n",
       "      <th>4</th>\n",
       "      <td>P-5</td>\n",
       "      <td>MacBook Pro (13-inch, 2017)</td>\n",
       "      <td>CAT-1</td>\n",
       "      <td>2017-06-01</td>\n",
       "      <td>1299</td>\n",
       "    </tr>\n",
       "  </tbody>\n",
       "</table>\n",
       "</div>"
      ],
      "text/plain": [
       "  product_id                   product_name category_id launch_date  price\n",
       "0        P-1        MacBook Pro (Touch Bar)       CAT-1  2016-10-01   1499\n",
       "1        P-2                        AirPods       CAT-2  2016-12-01    159\n",
       "2        P-3           iPad Pro (10.5-inch)       CAT-3  2017-06-01    649\n",
       "3        P-4  iPad Pro (12.9-inch, 2nd Gen)       CAT-3  2017-06-01    799\n",
       "4        P-5    MacBook Pro (13-inch, 2017)       CAT-1  2017-06-01   1299"
      ]
     },
     "execution_count": 55,
     "metadata": {},
     "output_type": "execute_result"
    }
   ],
   "source": [
    "df_products.head()"
   ]
  },
  {
   "cell_type": "code",
   "execution_count": 11,
   "id": "73b0af79-b54c-4676-b698-5d4c7f051e2e",
   "metadata": {},
   "outputs": [
    {
     "data": {
      "text/plain": [
       "category_id      0\n",
       "category_name    0\n",
       "dtype: int64"
      ]
     },
     "execution_count": 11,
     "metadata": {},
     "output_type": "execute_result"
    }
   ],
   "source": [
    "df_category.isna().sum()"
   ]
  },
  {
   "cell_type": "code",
   "execution_count": 13,
   "id": "4100624a-a0a0-4740-93bf-d853c12b645e",
   "metadata": {},
   "outputs": [
    {
     "data": {
      "text/plain": [
       "0"
      ]
     },
     "execution_count": 13,
     "metadata": {},
     "output_type": "execute_result"
    }
   ],
   "source": [
    "df_category.duplicated().sum()"
   ]
  },
  {
   "cell_type": "code",
   "execution_count": 65,
   "id": "3a90745b-c2ed-45cb-ac16-886ca43925c5",
   "metadata": {},
   "outputs": [],
   "source": [
    "data = pd.read_csv(r\"D:\\New folder\\sales.csv\")\n",
    "df_sales=pd.DataFrame(data)"
   ]
  },
  {
   "cell_type": "code",
   "execution_count": 57,
   "id": "e5a8cde2-2fc7-46ad-945a-7c47724f438b",
   "metadata": {},
   "outputs": [
    {
     "data": {
      "text/html": [
       "<div>\n",
       "<style scoped>\n",
       "    .dataframe tbody tr th:only-of-type {\n",
       "        vertical-align: middle;\n",
       "    }\n",
       "\n",
       "    .dataframe tbody tr th {\n",
       "        vertical-align: top;\n",
       "    }\n",
       "\n",
       "    .dataframe thead th {\n",
       "        text-align: right;\n",
       "    }\n",
       "</style>\n",
       "<table border=\"1\" class=\"dataframe\">\n",
       "  <thead>\n",
       "    <tr style=\"text-align: right;\">\n",
       "      <th></th>\n",
       "      <th>sale_id</th>\n",
       "      <th>sale_date</th>\n",
       "      <th>store_id</th>\n",
       "      <th>product_id</th>\n",
       "      <th>quantity</th>\n",
       "    </tr>\n",
       "  </thead>\n",
       "  <tbody>\n",
       "    <tr>\n",
       "      <th>0</th>\n",
       "      <td>OID-358365</td>\n",
       "      <td>16-09-2021</td>\n",
       "      <td>ST-33</td>\n",
       "      <td>P-44</td>\n",
       "      <td>1</td>\n",
       "    </tr>\n",
       "    <tr>\n",
       "      <th>1</th>\n",
       "      <td>OID-358510</td>\n",
       "      <td>28-01-2022</td>\n",
       "      <td>ST-33</td>\n",
       "      <td>P-44</td>\n",
       "      <td>1</td>\n",
       "    </tr>\n",
       "    <tr>\n",
       "      <th>2</th>\n",
       "      <td>OID-358525</td>\n",
       "      <td>26-11-2021</td>\n",
       "      <td>ST-33</td>\n",
       "      <td>P-44</td>\n",
       "      <td>1</td>\n",
       "    </tr>\n",
       "    <tr>\n",
       "      <th>3</th>\n",
       "      <td>OID-358591</td>\n",
       "      <td>15-09-2021</td>\n",
       "      <td>ST-33</td>\n",
       "      <td>P-44</td>\n",
       "      <td>1</td>\n",
       "    </tr>\n",
       "    <tr>\n",
       "      <th>4</th>\n",
       "      <td>OID-358601</td>\n",
       "      <td>7/2/2022</td>\n",
       "      <td>ST-33</td>\n",
       "      <td>P-44</td>\n",
       "      <td>1</td>\n",
       "    </tr>\n",
       "  </tbody>\n",
       "</table>\n",
       "</div>"
      ],
      "text/plain": [
       "      sale_id   sale_date store_id product_id  quantity\n",
       "0  OID-358365  16-09-2021    ST-33       P-44         1\n",
       "1  OID-358510  28-01-2022    ST-33       P-44         1\n",
       "2  OID-358525  26-11-2021    ST-33       P-44         1\n",
       "3  OID-358591  15-09-2021    ST-33       P-44         1\n",
       "4  OID-358601    7/2/2022    ST-33       P-44         1"
      ]
     },
     "execution_count": 57,
     "metadata": {},
     "output_type": "execute_result"
    }
   ],
   "source": [
    "df_sales.head()"
   ]
  },
  {
   "cell_type": "code",
   "execution_count": 23,
   "id": "67fae856-03a1-4ebc-b23d-7c9e184ba4cb",
   "metadata": {},
   "outputs": [
    {
     "data": {
      "text/plain": [
       "sale_id       0\n",
       "sale_date     0\n",
       "store_id      0\n",
       "product_id    0\n",
       "quantity      0\n",
       "dtype: int64"
      ]
     },
     "execution_count": 23,
     "metadata": {},
     "output_type": "execute_result"
    }
   ],
   "source": [
    "df_sales.isna().sum()"
   ]
  },
  {
   "cell_type": "code",
   "execution_count": 25,
   "id": "324435ff-3e32-4c24-b59e-8ce0463c9bec",
   "metadata": {},
   "outputs": [
    {
     "data": {
      "text/plain": [
       "0"
      ]
     },
     "execution_count": 25,
     "metadata": {},
     "output_type": "execute_result"
    }
   ],
   "source": [
    "df_sales.duplicated().sum()"
   ]
  },
  {
   "cell_type": "code",
   "execution_count": 67,
   "id": "f1cd9f6a-a3e3-43f9-9018-0852828d0077",
   "metadata": {},
   "outputs": [],
   "source": [
    "data = pd.read_csv(r\"D:\\New folder\\stores.csv\")\n",
    "df_stores=pd.DataFrame(data)"
   ]
  },
  {
   "cell_type": "code",
   "execution_count": 59,
   "id": "f8ad54ff-8e81-4964-b16d-a0f8448b6fdc",
   "metadata": {},
   "outputs": [
    {
     "data": {
      "text/html": [
       "<div>\n",
       "<style scoped>\n",
       "    .dataframe tbody tr th:only-of-type {\n",
       "        vertical-align: middle;\n",
       "    }\n",
       "\n",
       "    .dataframe tbody tr th {\n",
       "        vertical-align: top;\n",
       "    }\n",
       "\n",
       "    .dataframe thead th {\n",
       "        text-align: right;\n",
       "    }\n",
       "</style>\n",
       "<table border=\"1\" class=\"dataframe\">\n",
       "  <thead>\n",
       "    <tr style=\"text-align: right;\">\n",
       "      <th></th>\n",
       "      <th>Store_ID</th>\n",
       "      <th>Store_Name</th>\n",
       "      <th>City</th>\n",
       "      <th>Country</th>\n",
       "    </tr>\n",
       "  </thead>\n",
       "  <tbody>\n",
       "    <tr>\n",
       "      <th>0</th>\n",
       "      <td>ST-1</td>\n",
       "      <td>Apple Fifth Avenue</td>\n",
       "      <td>New York</td>\n",
       "      <td>United States</td>\n",
       "    </tr>\n",
       "    <tr>\n",
       "      <th>1</th>\n",
       "      <td>ST-2</td>\n",
       "      <td>Apple Union Square</td>\n",
       "      <td>San Francisco</td>\n",
       "      <td>United States</td>\n",
       "    </tr>\n",
       "    <tr>\n",
       "      <th>2</th>\n",
       "      <td>ST-3</td>\n",
       "      <td>Apple Michigan Avenue</td>\n",
       "      <td>Chicago</td>\n",
       "      <td>United States</td>\n",
       "    </tr>\n",
       "    <tr>\n",
       "      <th>3</th>\n",
       "      <td>ST-4</td>\n",
       "      <td>Apple The Grove</td>\n",
       "      <td>Los Angeles</td>\n",
       "      <td>United States</td>\n",
       "    </tr>\n",
       "    <tr>\n",
       "      <th>4</th>\n",
       "      <td>ST-5</td>\n",
       "      <td>Apple SoHo</td>\n",
       "      <td>New York</td>\n",
       "      <td>United States</td>\n",
       "    </tr>\n",
       "  </tbody>\n",
       "</table>\n",
       "</div>"
      ],
      "text/plain": [
       "  Store_ID             Store_Name           City        Country\n",
       "0     ST-1     Apple Fifth Avenue       New York  United States\n",
       "1     ST-2     Apple Union Square  San Francisco  United States\n",
       "2     ST-3  Apple Michigan Avenue        Chicago  United States\n",
       "3     ST-4        Apple The Grove    Los Angeles  United States\n",
       "4     ST-5             Apple SoHo       New York  United States"
      ]
     },
     "execution_count": 59,
     "metadata": {},
     "output_type": "execute_result"
    }
   ],
   "source": [
    "df_stores.head()"
   ]
  },
  {
   "cell_type": "code",
   "execution_count": 31,
   "id": "83bf0ecf-e36e-4189-8ed0-9d404336f3cc",
   "metadata": {},
   "outputs": [
    {
     "data": {
      "text/plain": [
       "Store_ID      0\n",
       "Store_Name    0\n",
       "City          0\n",
       "Country       0\n",
       "dtype: int64"
      ]
     },
     "execution_count": 31,
     "metadata": {},
     "output_type": "execute_result"
    }
   ],
   "source": [
    "df_stores.isna().sum()"
   ]
  },
  {
   "cell_type": "code",
   "execution_count": 33,
   "id": "16a8af09-b826-401a-bf2d-9260a5c838d0",
   "metadata": {},
   "outputs": [
    {
     "data": {
      "text/plain": [
       "0"
      ]
     },
     "execution_count": 33,
     "metadata": {},
     "output_type": "execute_result"
    }
   ],
   "source": [
    "df_stores.duplicated().sum()"
   ]
  },
  {
   "cell_type": "code",
   "execution_count": 35,
   "id": "4d1adeca-4afb-48b5-86cb-c95332bf16a3",
   "metadata": {},
   "outputs": [
    {
     "data": {
      "text/html": [
       "<div>\n",
       "<style scoped>\n",
       "    .dataframe tbody tr th:only-of-type {\n",
       "        vertical-align: middle;\n",
       "    }\n",
       "\n",
       "    .dataframe tbody tr th {\n",
       "        vertical-align: top;\n",
       "    }\n",
       "\n",
       "    .dataframe thead th {\n",
       "        text-align: right;\n",
       "    }\n",
       "</style>\n",
       "<table border=\"1\" class=\"dataframe\">\n",
       "  <thead>\n",
       "    <tr style=\"text-align: right;\">\n",
       "      <th></th>\n",
       "      <th>claim_id</th>\n",
       "      <th>claim_date</th>\n",
       "      <th>sale_id</th>\n",
       "      <th>repair_status</th>\n",
       "    </tr>\n",
       "  </thead>\n",
       "  <tbody>\n",
       "    <tr>\n",
       "      <th>0</th>\n",
       "      <td>CL-285</td>\n",
       "      <td>2020-01-17</td>\n",
       "      <td>OID-363381</td>\n",
       "      <td>Free Replaced</td>\n",
       "    </tr>\n",
       "    <tr>\n",
       "      <th>1</th>\n",
       "      <td>CL-290</td>\n",
       "      <td>2020-01-19</td>\n",
       "      <td>OID-363359</td>\n",
       "      <td>Free Replaced</td>\n",
       "    </tr>\n",
       "    <tr>\n",
       "      <th>2</th>\n",
       "      <td>CL-291</td>\n",
       "      <td>2020-01-19</td>\n",
       "      <td>OID-363371</td>\n",
       "      <td>Free Replaced</td>\n",
       "    </tr>\n",
       "    <tr>\n",
       "      <th>3</th>\n",
       "      <td>CL-299</td>\n",
       "      <td>2020-01-21</td>\n",
       "      <td>OID-363397</td>\n",
       "      <td>Free Replaced</td>\n",
       "    </tr>\n",
       "    <tr>\n",
       "      <th>4</th>\n",
       "      <td>CL-308</td>\n",
       "      <td>2020-01-23</td>\n",
       "      <td>OID-363395</td>\n",
       "      <td>Free Replaced</td>\n",
       "    </tr>\n",
       "  </tbody>\n",
       "</table>\n",
       "</div>"
      ],
      "text/plain": [
       "  claim_id  claim_date     sale_id  repair_status\n",
       "0   CL-285  2020-01-17  OID-363381  Free Replaced\n",
       "1   CL-290  2020-01-19  OID-363359  Free Replaced\n",
       "2   CL-291  2020-01-19  OID-363371  Free Replaced\n",
       "3   CL-299  2020-01-21  OID-363397  Free Replaced\n",
       "4   CL-308  2020-01-23  OID-363395  Free Replaced"
      ]
     },
     "execution_count": 35,
     "metadata": {},
     "output_type": "execute_result"
    }
   ],
   "source": [
    "data = pd.read_csv(r\"D:\\New folder\\warranty.csv\")\n",
    "df_warranty=pd.DataFrame(data)"
   ]
  },
  {
   "cell_type": "code",
   "execution_count": 61,
   "id": "f6e4aeda-abc9-497f-a15e-4b5127e10ceb",
   "metadata": {},
   "outputs": [
    {
     "data": {
      "text/html": [
       "<div>\n",
       "<style scoped>\n",
       "    .dataframe tbody tr th:only-of-type {\n",
       "        vertical-align: middle;\n",
       "    }\n",
       "\n",
       "    .dataframe tbody tr th {\n",
       "        vertical-align: top;\n",
       "    }\n",
       "\n",
       "    .dataframe thead th {\n",
       "        text-align: right;\n",
       "    }\n",
       "</style>\n",
       "<table border=\"1\" class=\"dataframe\">\n",
       "  <thead>\n",
       "    <tr style=\"text-align: right;\">\n",
       "      <th></th>\n",
       "      <th>claim_id</th>\n",
       "      <th>claim_date</th>\n",
       "      <th>sale_id</th>\n",
       "      <th>repair_status</th>\n",
       "    </tr>\n",
       "  </thead>\n",
       "  <tbody>\n",
       "    <tr>\n",
       "      <th>0</th>\n",
       "      <td>CL-285</td>\n",
       "      <td>2020-01-17</td>\n",
       "      <td>OID-363381</td>\n",
       "      <td>Free Replaced</td>\n",
       "    </tr>\n",
       "    <tr>\n",
       "      <th>1</th>\n",
       "      <td>CL-290</td>\n",
       "      <td>2020-01-19</td>\n",
       "      <td>OID-363359</td>\n",
       "      <td>Free Replaced</td>\n",
       "    </tr>\n",
       "    <tr>\n",
       "      <th>2</th>\n",
       "      <td>CL-291</td>\n",
       "      <td>2020-01-19</td>\n",
       "      <td>OID-363371</td>\n",
       "      <td>Free Replaced</td>\n",
       "    </tr>\n",
       "    <tr>\n",
       "      <th>3</th>\n",
       "      <td>CL-299</td>\n",
       "      <td>2020-01-21</td>\n",
       "      <td>OID-363397</td>\n",
       "      <td>Free Replaced</td>\n",
       "    </tr>\n",
       "    <tr>\n",
       "      <th>4</th>\n",
       "      <td>CL-308</td>\n",
       "      <td>2020-01-23</td>\n",
       "      <td>OID-363395</td>\n",
       "      <td>Free Replaced</td>\n",
       "    </tr>\n",
       "  </tbody>\n",
       "</table>\n",
       "</div>"
      ],
      "text/plain": [
       "  claim_id  claim_date     sale_id  repair_status\n",
       "0   CL-285  2020-01-17  OID-363381  Free Replaced\n",
       "1   CL-290  2020-01-19  OID-363359  Free Replaced\n",
       "2   CL-291  2020-01-19  OID-363371  Free Replaced\n",
       "3   CL-299  2020-01-21  OID-363397  Free Replaced\n",
       "4   CL-308  2020-01-23  OID-363395  Free Replaced"
      ]
     },
     "execution_count": 61,
     "metadata": {},
     "output_type": "execute_result"
    }
   ],
   "source": [
    "df_warranty.head()"
   ]
  },
  {
   "cell_type": "code",
   "execution_count": 37,
   "id": "6b41179b-6483-4380-8464-e532a29cfa0e",
   "metadata": {},
   "outputs": [
    {
     "data": {
      "text/plain": [
       "claim_id         0\n",
       "claim_date       0\n",
       "sale_id          0\n",
       "repair_status    0\n",
       "dtype: int64"
      ]
     },
     "execution_count": 37,
     "metadata": {},
     "output_type": "execute_result"
    }
   ],
   "source": [
    "df_warranty.isna().sum()"
   ]
  },
  {
   "cell_type": "code",
   "execution_count": 39,
   "id": "6b36c378-83f4-4cf4-97f6-b5b0b5f9ee76",
   "metadata": {},
   "outputs": [
    {
     "data": {
      "text/plain": [
       "0"
      ]
     },
     "execution_count": 39,
     "metadata": {},
     "output_type": "execute_result"
    }
   ],
   "source": [
    "df_warranty.duplicated().sum()"
   ]
  }
 ],
 "metadata": {
  "kernelspec": {
   "display_name": "Python 3 (ipykernel)",
   "language": "python",
   "name": "python3"
  },
  "language_info": {
   "codemirror_mode": {
    "name": "ipython",
    "version": 3
   },
   "file_extension": ".py",
   "mimetype": "text/x-python",
   "name": "python",
   "nbconvert_exporter": "python",
   "pygments_lexer": "ipython3",
   "version": "3.12.4"
  }
 },
 "nbformat": 4,
 "nbformat_minor": 5
}
